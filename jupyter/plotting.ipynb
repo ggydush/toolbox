{
 "cells": [
  {
   "cell_type": "code",
   "execution_count": 2,
   "metadata": {},
   "outputs": [],
   "source": [
    "import pandas as pd\n",
    "import seaborn as sns\n",
    "import matplotlib.pyplot as plt\n",
    "import numpy as np\n",
    "import glob\n",
    "\n",
    "# Plotting settings\n",
    "%matplotlib inline\n",
    "get_ipython().events.trigger('post_run_cell')\n",
    "rc_params = {'text.color': 'k', 'axes.edgecolor': 'k', 'xtick.color': 'k', 'ytick.color': 'k', \n",
    "             'axes.labelcolor': 'k', 'figure.figsize':(10, 8)}\n",
    "sns.set(palette='tab10', rc=rc_params, font='Arial', style='ticks', font_scale=1.5)\n",
    "\n",
    "# Pandas Settings\n",
    "pd.options.display.max_columns = 100"
   ]
  },
  {
   "cell_type": "code",
   "execution_count": null,
   "metadata": {},
   "outputs": [],
   "source": []
  }
 ],
 "metadata": {
  "kernelspec": {
   "display_name": "Python 3",
   "language": "python",
   "name": "python3"
  },
  "language_info": {
   "codemirror_mode": {
    "name": "ipython",
    "version": 3
   },
   "file_extension": ".py",
   "mimetype": "text/x-python",
   "name": "python",
   "nbconvert_exporter": "python",
   "pygments_lexer": "ipython3",
   "version": "3.6.8"
  }
 },
 "nbformat": 4,
 "nbformat_minor": 2
}
